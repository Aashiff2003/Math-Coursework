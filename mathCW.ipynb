{
 "cells": [
  {
   "cell_type": "code",
   "execution_count": 1,
   "metadata": {},
   "outputs": [],
   "source": [
    "import sympy as sym\n",
    "from sympy import *"
   ]
  },
  {
   "cell_type": "code",
   "execution_count": 2,
   "metadata": {},
   "outputs": [
    {
     "data": {
      "text/latex": [
       "$\\displaystyle e^{x^{2} + y^{2}} + \\cos{\\left(x y \\right)}$"
      ],
      "text/plain": [
       "exp(x**2 + y**2) + cos(x*y)"
      ]
     },
     "execution_count": 2,
     "metadata": {},
     "output_type": "execute_result"
    }
   ],
   "source": [
    "# Initializing the given function\n",
    "x, y = sym.symbols('x, y')\n",
    "L = exp(x**2 + y**2) + cos(x * y)\n",
    "L"
   ]
  },
  {
   "cell_type": "code",
   "execution_count": 3,
   "metadata": {},
   "outputs": [
    {
     "name": "stdout",
     "output_type": "stream",
     "text": [
      "differentiation by x: 2*x*exp(x**2 + y**2) - y*sin(x*y)\n",
      "differentiation by y: -x*sin(x*y) + 2*y*exp(x**2 + y**2)\n"
     ]
    }
   ],
   "source": [
    "#Find the partial derivatives ∂L/∂x and ∂L/∂y .\n",
    "print(\"differentiation by x:\", sym.diff(L, x))\n",
    "print(\"differentiation by y:\", sym.diff(L, y))\n"
   ]
  }
 ],
 "metadata": {
  "kernelspec": {
   "display_name": "base",
   "language": "python",
   "name": "python3"
  },
  "language_info": {
   "codemirror_mode": {
    "name": "ipython",
    "version": 3
   },
   "file_extension": ".py",
   "mimetype": "text/x-python",
   "name": "python",
   "nbconvert_exporter": "python",
   "pygments_lexer": "ipython3",
   "version": "3.12.4"
  }
 },
 "nbformat": 4,
 "nbformat_minor": 2
}
